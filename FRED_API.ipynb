{
 "cells": [
  {
   "cell_type": "markdown",
   "id": "926e16bf",
   "metadata": {},
   "source": [
    "# Using FRED API to Obatin Economic Data"
   ]
  },
  {
   "cell_type": "markdown",
   "id": "648b689e",
   "metadata": {},
   "source": [
    "### Modules and Installations"
   ]
  },
  {
   "cell_type": "code",
   "execution_count": 1,
   "id": "f3979fe8",
   "metadata": {},
   "outputs": [],
   "source": [
    "from dotenv import load_dotenv\n",
    "import os\n",
    "from fredapi import Fred\n",
    "import requests\n",
    "import pandas as pd"
   ]
  },
  {
   "cell_type": "code",
   "execution_count": 2,
   "id": "9836daa1",
   "metadata": {},
   "outputs": [
    {
     "name": "stdout",
     "output_type": "stream",
     "text": [
      "Requirement already satisfied: python-dotenv in c:\\users\\ben english\\anaconda3\\envs\\pandas_env\\lib\\site-packages (1.0.0)\n"
     ]
    }
   ],
   "source": [
    "# Only use if the 'dotenv' module is not installed\n",
    "!pip install python-dotenv"
   ]
  },
  {
   "cell_type": "code",
   "execution_count": 3,
   "id": "aa032b3e",
   "metadata": {},
   "outputs": [
    {
     "name": "stdout",
     "output_type": "stream",
     "text": [
      "Requirement already satisfied: fredapi in c:\\users\\ben english\\anaconda3\\envs\\pandas_env\\lib\\site-packages (0.5.0)\n",
      "Requirement already satisfied: pandas in c:\\users\\ben english\\anaconda3\\envs\\pandas_env\\lib\\site-packages (from fredapi) (1.5.3)\n",
      "Requirement already satisfied: python-dateutil>=2.8.1 in c:\\users\\ben english\\anaconda3\\envs\\pandas_env\\lib\\site-packages (from pandas->fredapi) (2.8.2)\n",
      "Requirement already satisfied: pytz>=2020.1 in c:\\users\\ben english\\anaconda3\\envs\\pandas_env\\lib\\site-packages (from pandas->fredapi) (2022.7)\n",
      "Requirement already satisfied: numpy>=1.21.0 in c:\\users\\ben english\\anaconda3\\envs\\pandas_env\\lib\\site-packages (from pandas->fredapi) (1.23.5)\n",
      "Requirement already satisfied: six>=1.5 in c:\\users\\ben english\\anaconda3\\envs\\pandas_env\\lib\\site-packages (from python-dateutil>=2.8.1->pandas->fredapi) (1.16.0)\n"
     ]
    }
   ],
   "source": [
    "# Only use if the 'fredapi' module is not installed\n",
    "!pip install fredapi"
   ]
  },
  {
   "cell_type": "markdown",
   "id": "d21b84c7",
   "metadata": {},
   "source": [
    "### Create Fred Object and Use the API Key"
   ]
  },
  {
   "cell_type": "code",
   "execution_count": 4,
   "id": "3149463d",
   "metadata": {},
   "outputs": [
    {
     "data": {
      "text/plain": [
       "True"
      ]
     },
     "execution_count": 4,
     "metadata": {},
     "output_type": "execute_result"
    }
   ],
   "source": [
    "load_dotenv()"
   ]
  },
  {
   "cell_type": "code",
   "execution_count": 5,
   "id": "db6181ed",
   "metadata": {},
   "outputs": [],
   "source": [
    "api_key = os.environ.get('FRED_API_KEY')"
   ]
  },
  {
   "cell_type": "code",
   "execution_count": 6,
   "id": "448cbfc0",
   "metadata": {},
   "outputs": [],
   "source": [
    "fred = Fred(api_key=api_key)"
   ]
  },
  {
   "cell_type": "markdown",
   "id": "c3783c4d",
   "metadata": {},
   "source": [
    "### Gather the Data of five Economic Indicators"
   ]
  },
  {
   "cell_type": "code",
   "execution_count": 7,
   "id": "a148e5f2",
   "metadata": {},
   "outputs": [],
   "source": [
    "# Federal Funds Effective Rate, Monthly frequency\n",
    "\n",
    "ff = fred.get_series('ff', frequency='m')"
   ]
  },
  {
   "cell_type": "code",
   "execution_count": 8,
   "id": "e7375c03",
   "metadata": {},
   "outputs": [],
   "source": [
    "ff_df = pd.DataFrame(ff, columns=['FF'])"
   ]
  },
  {
   "cell_type": "code",
   "execution_count": 9,
   "id": "34fc2cbb",
   "metadata": {},
   "outputs": [
    {
     "data": {
      "text/html": [
       "<div>\n",
       "<style scoped>\n",
       "    .dataframe tbody tr th:only-of-type {\n",
       "        vertical-align: middle;\n",
       "    }\n",
       "\n",
       "    .dataframe tbody tr th {\n",
       "        vertical-align: top;\n",
       "    }\n",
       "\n",
       "    .dataframe thead th {\n",
       "        text-align: right;\n",
       "    }\n",
       "</style>\n",
       "<table border=\"1\" class=\"dataframe\">\n",
       "  <thead>\n",
       "    <tr style=\"text-align: right;\">\n",
       "      <th></th>\n",
       "      <th>FF</th>\n",
       "    </tr>\n",
       "  </thead>\n",
       "  <tbody>\n",
       "    <tr>\n",
       "      <th>1954-07-01</th>\n",
       "      <td>0.86</td>\n",
       "    </tr>\n",
       "    <tr>\n",
       "      <th>1954-08-01</th>\n",
       "      <td>1.10</td>\n",
       "    </tr>\n",
       "    <tr>\n",
       "      <th>1954-09-01</th>\n",
       "      <td>1.10</td>\n",
       "    </tr>\n",
       "    <tr>\n",
       "      <th>1954-10-01</th>\n",
       "      <td>0.84</td>\n",
       "    </tr>\n",
       "    <tr>\n",
       "      <th>1954-11-01</th>\n",
       "      <td>0.74</td>\n",
       "    </tr>\n",
       "  </tbody>\n",
       "</table>\n",
       "</div>"
      ],
      "text/plain": [
       "              FF\n",
       "1954-07-01  0.86\n",
       "1954-08-01  1.10\n",
       "1954-09-01  1.10\n",
       "1954-10-01  0.84\n",
       "1954-11-01  0.74"
      ]
     },
     "execution_count": 9,
     "metadata": {},
     "output_type": "execute_result"
    }
   ],
   "source": [
    "ff_df.head()"
   ]
  },
  {
   "cell_type": "code",
   "execution_count": 10,
   "id": "0791bd27",
   "metadata": {},
   "outputs": [],
   "source": [
    "# Unemployment Rate, Monthly frequency\n",
    "\n",
    "u3 = fred.get_series('UNRATE', frequency='m')"
   ]
  },
  {
   "cell_type": "code",
   "execution_count": 11,
   "id": "fe8bbd4d",
   "metadata": {},
   "outputs": [],
   "source": [
    "u3_df = pd.DataFrame(u3, columns=['U-3'])"
   ]
  },
  {
   "cell_type": "code",
   "execution_count": 12,
   "id": "104eae67",
   "metadata": {
    "scrolled": true
   },
   "outputs": [
    {
     "data": {
      "text/html": [
       "<div>\n",
       "<style scoped>\n",
       "    .dataframe tbody tr th:only-of-type {\n",
       "        vertical-align: middle;\n",
       "    }\n",
       "\n",
       "    .dataframe tbody tr th {\n",
       "        vertical-align: top;\n",
       "    }\n",
       "\n",
       "    .dataframe thead th {\n",
       "        text-align: right;\n",
       "    }\n",
       "</style>\n",
       "<table border=\"1\" class=\"dataframe\">\n",
       "  <thead>\n",
       "    <tr style=\"text-align: right;\">\n",
       "      <th></th>\n",
       "      <th>U-3</th>\n",
       "    </tr>\n",
       "  </thead>\n",
       "  <tbody>\n",
       "    <tr>\n",
       "      <th>1948-01-01</th>\n",
       "      <td>3.4</td>\n",
       "    </tr>\n",
       "    <tr>\n",
       "      <th>1948-02-01</th>\n",
       "      <td>3.8</td>\n",
       "    </tr>\n",
       "    <tr>\n",
       "      <th>1948-03-01</th>\n",
       "      <td>4.0</td>\n",
       "    </tr>\n",
       "    <tr>\n",
       "      <th>1948-04-01</th>\n",
       "      <td>3.9</td>\n",
       "    </tr>\n",
       "    <tr>\n",
       "      <th>1948-05-01</th>\n",
       "      <td>3.5</td>\n",
       "    </tr>\n",
       "  </tbody>\n",
       "</table>\n",
       "</div>"
      ],
      "text/plain": [
       "            U-3\n",
       "1948-01-01  3.4\n",
       "1948-02-01  3.8\n",
       "1948-03-01  4.0\n",
       "1948-04-01  3.9\n",
       "1948-05-01  3.5"
      ]
     },
     "execution_count": 12,
     "metadata": {},
     "output_type": "execute_result"
    }
   ],
   "source": [
    "u3_df.head()"
   ]
  },
  {
   "cell_type": "code",
   "execution_count": 13,
   "id": "0cef5b88",
   "metadata": {},
   "outputs": [],
   "source": [
    "# Consumer Price Index for All Urban Consumers: All Items in U.S. City Average, Monthly frequency\n",
    "\n",
    "cpi = fred.get_series('CPIAUCSL', frequency='m')"
   ]
  },
  {
   "cell_type": "code",
   "execution_count": 14,
   "id": "66dcf13c",
   "metadata": {},
   "outputs": [],
   "source": [
    "cpi_df = pd.DataFrame(cpi, columns=['CPI'])"
   ]
  },
  {
   "cell_type": "code",
   "execution_count": 15,
   "id": "9d9d8718",
   "metadata": {},
   "outputs": [],
   "source": [
    "# We need to do some data calculation in order to get the year-over-year change:\n",
    "\n",
    "cpi_df['CPI_%_Change'] = cpi_df['CPI'].pct_change(periods=12).mul(100).round(2)"
   ]
  },
  {
   "cell_type": "code",
   "execution_count": 16,
   "id": "d14796b0",
   "metadata": {
    "scrolled": true
   },
   "outputs": [
    {
     "data": {
      "text/html": [
       "<div>\n",
       "<style scoped>\n",
       "    .dataframe tbody tr th:only-of-type {\n",
       "        vertical-align: middle;\n",
       "    }\n",
       "\n",
       "    .dataframe tbody tr th {\n",
       "        vertical-align: top;\n",
       "    }\n",
       "\n",
       "    .dataframe thead th {\n",
       "        text-align: right;\n",
       "    }\n",
       "</style>\n",
       "<table border=\"1\" class=\"dataframe\">\n",
       "  <thead>\n",
       "    <tr style=\"text-align: right;\">\n",
       "      <th></th>\n",
       "      <th>CPI</th>\n",
       "      <th>CPI_%_Change</th>\n",
       "    </tr>\n",
       "  </thead>\n",
       "  <tbody>\n",
       "    <tr>\n",
       "      <th>1952-06-01</th>\n",
       "      <td>26.530</td>\n",
       "      <td>2.31</td>\n",
       "    </tr>\n",
       "    <tr>\n",
       "      <th>2013-03-01</th>\n",
       "      <td>232.282</td>\n",
       "      <td>1.52</td>\n",
       "    </tr>\n",
       "    <tr>\n",
       "      <th>2001-05-01</th>\n",
       "      <td>177.300</td>\n",
       "      <td>3.56</td>\n",
       "    </tr>\n",
       "    <tr>\n",
       "      <th>2007-08-01</th>\n",
       "      <td>207.667</td>\n",
       "      <td>1.90</td>\n",
       "    </tr>\n",
       "    <tr>\n",
       "      <th>1972-04-01</th>\n",
       "      <td>41.500</td>\n",
       "      <td>3.49</td>\n",
       "    </tr>\n",
       "  </tbody>\n",
       "</table>\n",
       "</div>"
      ],
      "text/plain": [
       "                CPI  CPI_%_Change\n",
       "1952-06-01   26.530          2.31\n",
       "2013-03-01  232.282          1.52\n",
       "2001-05-01  177.300          3.56\n",
       "2007-08-01  207.667          1.90\n",
       "1972-04-01   41.500          3.49"
      ]
     },
     "execution_count": 16,
     "metadata": {},
     "output_type": "execute_result"
    }
   ],
   "source": [
    "cpi_df.sample(5, axis = 0)"
   ]
  },
  {
   "cell_type": "code",
   "execution_count": 17,
   "id": "819f78c9",
   "metadata": {},
   "outputs": [],
   "source": [
    "# M2 (money supply - includes highly liquid assets), Monthly frequency\n",
    "m2 = fred.get_series('M2SL', frequency='m')"
   ]
  },
  {
   "cell_type": "code",
   "execution_count": 18,
   "id": "9a14e8ab",
   "metadata": {},
   "outputs": [],
   "source": [
    "m2_df = pd.DataFrame(m2, columns=['M2'])"
   ]
  },
  {
   "cell_type": "code",
   "execution_count": 20,
   "id": "451fff74",
   "metadata": {},
   "outputs": [],
   "source": [
    "# We need to do some data calculation in order to get the year-over-year change:\n",
    "\n",
    "m2_df['M2_%_Change'] = m2_df['M2'].pct_change(periods=12).mul(100).round(2)"
   ]
  },
  {
   "cell_type": "code",
   "execution_count": 21,
   "id": "4f1a535e",
   "metadata": {},
   "outputs": [
    {
     "data": {
      "text/html": [
       "<div>\n",
       "<style scoped>\n",
       "    .dataframe tbody tr th:only-of-type {\n",
       "        vertical-align: middle;\n",
       "    }\n",
       "\n",
       "    .dataframe tbody tr th {\n",
       "        vertical-align: top;\n",
       "    }\n",
       "\n",
       "    .dataframe thead th {\n",
       "        text-align: right;\n",
       "    }\n",
       "</style>\n",
       "<table border=\"1\" class=\"dataframe\">\n",
       "  <thead>\n",
       "    <tr style=\"text-align: right;\">\n",
       "      <th></th>\n",
       "      <th>M2</th>\n",
       "      <th>M2_%_Change</th>\n",
       "    </tr>\n",
       "  </thead>\n",
       "  <tbody>\n",
       "    <tr>\n",
       "      <th>2014-02-01</th>\n",
       "      <td>11178.8</td>\n",
       "      <td>6.45</td>\n",
       "    </tr>\n",
       "    <tr>\n",
       "      <th>2008-07-01</th>\n",
       "      <td>7775.4</td>\n",
       "      <td>6.38</td>\n",
       "    </tr>\n",
       "    <tr>\n",
       "      <th>1997-07-01</th>\n",
       "      <td>3923.9</td>\n",
       "      <td>5.00</td>\n",
       "    </tr>\n",
       "    <tr>\n",
       "      <th>1966-11-01</th>\n",
       "      <td>477.3</td>\n",
       "      <td>4.74</td>\n",
       "    </tr>\n",
       "    <tr>\n",
       "      <th>2010-12-01</th>\n",
       "      <td>8801.8</td>\n",
       "      <td>3.60</td>\n",
       "    </tr>\n",
       "  </tbody>\n",
       "</table>\n",
       "</div>"
      ],
      "text/plain": [
       "                 M2  M2_%_Change\n",
       "2014-02-01  11178.8         6.45\n",
       "2008-07-01   7775.4         6.38\n",
       "1997-07-01   3923.9         5.00\n",
       "1966-11-01    477.3         4.74\n",
       "2010-12-01   8801.8         3.60"
      ]
     },
     "execution_count": 21,
     "metadata": {},
     "output_type": "execute_result"
    }
   ],
   "source": [
    "m2_df.sample(5, axis = 0)"
   ]
  },
  {
   "cell_type": "code",
   "execution_count": 22,
   "id": "374f8683",
   "metadata": {},
   "outputs": [],
   "source": [
    "# Real Gross Domestic Product, Quarterly frequency (Do notice that this indicator frequency is different)\n",
    "\n",
    "gdp = fred.get_series('GDPC1', frequency='q')"
   ]
  },
  {
   "cell_type": "code",
   "execution_count": 23,
   "id": "2c7c8529",
   "metadata": {},
   "outputs": [],
   "source": [
    "gdp_df = pd.DataFrame(gdp, columns=['GDP'])"
   ]
  },
  {
   "cell_type": "code",
   "execution_count": 24,
   "id": "ef63fa38",
   "metadata": {},
   "outputs": [],
   "source": [
    "# We need to do some data calculation in order to get the year-over-year change:\n",
    "\n",
    "gdp_df['GDP_%_Change'] = gdp_df['GDP'].pct_change(periods=4).mul(100).round(2)"
   ]
  },
  {
   "cell_type": "code",
   "execution_count": 25,
   "id": "850ca010",
   "metadata": {
    "scrolled": false
   },
   "outputs": [
    {
     "data": {
      "text/html": [
       "<div>\n",
       "<style scoped>\n",
       "    .dataframe tbody tr th:only-of-type {\n",
       "        vertical-align: middle;\n",
       "    }\n",
       "\n",
       "    .dataframe tbody tr th {\n",
       "        vertical-align: top;\n",
       "    }\n",
       "\n",
       "    .dataframe thead th {\n",
       "        text-align: right;\n",
       "    }\n",
       "</style>\n",
       "<table border=\"1\" class=\"dataframe\">\n",
       "  <thead>\n",
       "    <tr style=\"text-align: right;\">\n",
       "      <th></th>\n",
       "      <th>GDP</th>\n",
       "      <th>GDP_%_Change</th>\n",
       "    </tr>\n",
       "  </thead>\n",
       "  <tbody>\n",
       "    <tr>\n",
       "      <th>1977-07-01</th>\n",
       "      <td>6313.559</td>\n",
       "      <td>5.77</td>\n",
       "    </tr>\n",
       "    <tr>\n",
       "      <th>1959-04-01</th>\n",
       "      <td>3194.429</td>\n",
       "      <td>9.12</td>\n",
       "    </tr>\n",
       "    <tr>\n",
       "      <th>1957-10-01</th>\n",
       "      <td>2985.775</td>\n",
       "      <td>0.36</td>\n",
       "    </tr>\n",
       "    <tr>\n",
       "      <th>2022-01-01</th>\n",
       "      <td>19924.088</td>\n",
       "      <td>3.68</td>\n",
       "    </tr>\n",
       "    <tr>\n",
       "      <th>2015-01-01</th>\n",
       "      <td>17280.647</td>\n",
       "      <td>3.76</td>\n",
       "    </tr>\n",
       "  </tbody>\n",
       "</table>\n",
       "</div>"
      ],
      "text/plain": [
       "                  GDP  GDP_%_Change\n",
       "1977-07-01   6313.559          5.77\n",
       "1959-04-01   3194.429          9.12\n",
       "1957-10-01   2985.775          0.36\n",
       "2022-01-01  19924.088          3.68\n",
       "2015-01-01  17280.647          3.76"
      ]
     },
     "execution_count": 25,
     "metadata": {},
     "output_type": "execute_result"
    }
   ],
   "source": [
    "gdp_df.sample(5, axis = 0)"
   ]
  },
  {
   "cell_type": "markdown",
   "id": "a5b2e303",
   "metadata": {},
   "source": [
    "### Merge the Economic Indicators Into One Data Frame"
   ]
  },
  {
   "cell_type": "code",
   "execution_count": 27,
   "id": "af9faefc",
   "metadata": {},
   "outputs": [],
   "source": [
    "# We are using inner join for the first two data frames\n",
    "\n",
    "final_df = pd.merge(ff_df, u3_df, left_index=True, right_index=True, how='inner')"
   ]
  },
  {
   "cell_type": "code",
   "execution_count": 28,
   "id": "8ae89225",
   "metadata": {},
   "outputs": [],
   "source": [
    "# Another inner join\n",
    "\n",
    "final_df = pd.merge(final_df, cpi_df[['CPI_%_Change']], left_index=True, right_index=True, how='inner')"
   ]
  },
  {
   "cell_type": "code",
   "execution_count": 29,
   "id": "67dfb8a6",
   "metadata": {},
   "outputs": [],
   "source": [
    "# Another inner join\n",
    "\n",
    "final_df = pd.merge(final_df, m2_df[['M2_%_Change']], left_index=True, right_index=True, how='inner')"
   ]
  },
  {
   "cell_type": "code",
   "execution_count": 30,
   "id": "636a1563",
   "metadata": {},
   "outputs": [],
   "source": [
    "# We are using left join for the GDP because of the different frequency\n",
    "\n",
    "final_df = pd.merge(final_df, gdp_df[['GDP_%_Change']], left_index=True, right_index=True, how='left')"
   ]
  },
  {
   "cell_type": "code",
   "execution_count": 31,
   "id": "42532ad4",
   "metadata": {},
   "outputs": [
    {
     "data": {
      "text/html": [
       "<div>\n",
       "<style scoped>\n",
       "    .dataframe tbody tr th:only-of-type {\n",
       "        vertical-align: middle;\n",
       "    }\n",
       "\n",
       "    .dataframe tbody tr th {\n",
       "        vertical-align: top;\n",
       "    }\n",
       "\n",
       "    .dataframe thead th {\n",
       "        text-align: right;\n",
       "    }\n",
       "</style>\n",
       "<table border=\"1\" class=\"dataframe\">\n",
       "  <thead>\n",
       "    <tr style=\"text-align: right;\">\n",
       "      <th></th>\n",
       "      <th>FF</th>\n",
       "      <th>U-3</th>\n",
       "      <th>CPI_%_Change</th>\n",
       "      <th>M2_%_Change</th>\n",
       "      <th>GDP_%_Change</th>\n",
       "    </tr>\n",
       "  </thead>\n",
       "  <tbody>\n",
       "    <tr>\n",
       "      <th>1959-01-01</th>\n",
       "      <td>2.48</td>\n",
       "      <td>6.0</td>\n",
       "      <td>1.29</td>\n",
       "      <td>NaN</td>\n",
       "      <td>7.42</td>\n",
       "    </tr>\n",
       "    <tr>\n",
       "      <th>1959-02-01</th>\n",
       "      <td>2.43</td>\n",
       "      <td>5.9</td>\n",
       "      <td>1.05</td>\n",
       "      <td>NaN</td>\n",
       "      <td>NaN</td>\n",
       "    </tr>\n",
       "    <tr>\n",
       "      <th>1959-03-01</th>\n",
       "      <td>2.74</td>\n",
       "      <td>5.6</td>\n",
       "      <td>0.35</td>\n",
       "      <td>NaN</td>\n",
       "      <td>NaN</td>\n",
       "    </tr>\n",
       "    <tr>\n",
       "      <th>1959-04-01</th>\n",
       "      <td>2.95</td>\n",
       "      <td>5.2</td>\n",
       "      <td>0.14</td>\n",
       "      <td>NaN</td>\n",
       "      <td>9.12</td>\n",
       "    </tr>\n",
       "    <tr>\n",
       "      <th>1959-05-01</th>\n",
       "      <td>2.86</td>\n",
       "      <td>5.1</td>\n",
       "      <td>0.35</td>\n",
       "      <td>NaN</td>\n",
       "      <td>NaN</td>\n",
       "    </tr>\n",
       "    <tr>\n",
       "      <th>...</th>\n",
       "      <td>...</td>\n",
       "      <td>...</td>\n",
       "      <td>...</td>\n",
       "      <td>...</td>\n",
       "      <td>...</td>\n",
       "    </tr>\n",
       "    <tr>\n",
       "      <th>1966-12-01</th>\n",
       "      <td>5.40</td>\n",
       "      <td>3.8</td>\n",
       "      <td>3.36</td>\n",
       "      <td>4.57</td>\n",
       "      <td>NaN</td>\n",
       "    </tr>\n",
       "    <tr>\n",
       "      <th>1967-01-01</th>\n",
       "      <td>5.13</td>\n",
       "      <td>3.9</td>\n",
       "      <td>3.20</td>\n",
       "      <td>4.24</td>\n",
       "      <td>2.93</td>\n",
       "    </tr>\n",
       "    <tr>\n",
       "      <th>1967-02-01</th>\n",
       "      <td>4.88</td>\n",
       "      <td>3.8</td>\n",
       "      <td>2.87</td>\n",
       "      <td>4.41</td>\n",
       "      <td>NaN</td>\n",
       "    </tr>\n",
       "    <tr>\n",
       "      <th>1967-03-01</th>\n",
       "      <td>4.58</td>\n",
       "      <td>3.8</td>\n",
       "      <td>2.55</td>\n",
       "      <td>4.82</td>\n",
       "      <td>NaN</td>\n",
       "    </tr>\n",
       "    <tr>\n",
       "      <th>1967-04-01</th>\n",
       "      <td>4.10</td>\n",
       "      <td>3.8</td>\n",
       "      <td>2.54</td>\n",
       "      <td>4.86</td>\n",
       "      <td>2.64</td>\n",
       "    </tr>\n",
       "  </tbody>\n",
       "</table>\n",
       "<p>100 rows × 5 columns</p>\n",
       "</div>"
      ],
      "text/plain": [
       "              FF  U-3  CPI_%_Change  M2_%_Change  GDP_%_Change\n",
       "1959-01-01  2.48  6.0          1.29          NaN          7.42\n",
       "1959-02-01  2.43  5.9          1.05          NaN           NaN\n",
       "1959-03-01  2.74  5.6          0.35          NaN           NaN\n",
       "1959-04-01  2.95  5.2          0.14          NaN          9.12\n",
       "1959-05-01  2.86  5.1          0.35          NaN           NaN\n",
       "...          ...  ...           ...          ...           ...\n",
       "1966-12-01  5.40  3.8          3.36         4.57           NaN\n",
       "1967-01-01  5.13  3.9          3.20         4.24          2.93\n",
       "1967-02-01  4.88  3.8          2.87         4.41           NaN\n",
       "1967-03-01  4.58  3.8          2.55         4.82           NaN\n",
       "1967-04-01  4.10  3.8          2.54         4.86          2.64\n",
       "\n",
       "[100 rows x 5 columns]"
      ]
     },
     "execution_count": 31,
     "metadata": {},
     "output_type": "execute_result"
    }
   ],
   "source": [
    "final_df.head(100)"
   ]
  },
  {
   "cell_type": "markdown",
   "id": "3b63d4ab",
   "metadata": {},
   "source": [
    "### Clean NaN Cells from the Data Frame"
   ]
  },
  {
   "cell_type": "code",
   "execution_count": 32,
   "id": "deda762e",
   "metadata": {},
   "outputs": [],
   "source": [
    "# First, we fill the NaN cells in the GDP_%_Change column because of the different frequency\n",
    "\n",
    "final_df['GDP_%_Change'] = final_df['GDP_%_Change'].fillna(method='ffill')"
   ]
  },
  {
   "cell_type": "code",
   "execution_count": 33,
   "id": "70b897e9",
   "metadata": {},
   "outputs": [
    {
     "data": {
      "text/plain": [
       "FF               0\n",
       "U-3              0\n",
       "CPI_%_Change     0\n",
       "M2_%_Change     12\n",
       "GDP_%_Change     0\n",
       "dtype: int64"
      ]
     },
     "execution_count": 33,
     "metadata": {},
     "output_type": "execute_result"
    }
   ],
   "source": [
    "final_df.isnull().sum()"
   ]
  },
  {
   "cell_type": "code",
   "execution_count": 34,
   "id": "2c08e300",
   "metadata": {},
   "outputs": [],
   "source": [
    "# Second, we will drop the 12 rows with NaN cells in the M2_%_Change column\n",
    "\n",
    "final_df = final_df.dropna()"
   ]
  },
  {
   "cell_type": "markdown",
   "id": "5963562c",
   "metadata": {},
   "source": [
    "### Export the Data Frame to CSV File"
   ]
  },
  {
   "cell_type": "code",
   "execution_count": 35,
   "id": "7de22fe6",
   "metadata": {},
   "outputs": [],
   "source": [
    "final_df.to_csv(\"US_Indicators.csv\")"
   ]
  },
  {
   "cell_type": "markdown",
   "id": "f6bce639",
   "metadata": {},
   "source": [
    "### Visualization"
   ]
  },
  {
   "cell_type": "markdown",
   "id": "8ec07881",
   "metadata": {},
   "source": [
    "#### Please use the link to Tableau web site\n",
    "#### https://public.tableau.com/app/profile/ben.pinhassi/viz/US_Economic_Indicators/Dashboard1"
   ]
  }
 ],
 "metadata": {
  "kernelspec": {
   "display_name": "Python 3 (ipykernel)",
   "language": "python",
   "name": "python3"
  },
  "language_info": {
   "codemirror_mode": {
    "name": "ipython",
    "version": 3
   },
   "file_extension": ".py",
   "mimetype": "text/x-python",
   "name": "python",
   "nbconvert_exporter": "python",
   "pygments_lexer": "ipython3",
   "version": "3.11.2"
  }
 },
 "nbformat": 4,
 "nbformat_minor": 5
}
